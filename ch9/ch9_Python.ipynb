{
 "cells": [
  {
   "cell_type": "code",
   "execution_count": 45,
   "metadata": {
    "scrolled": true
   },
   "outputs": [],
   "source": [
    "import pandas as pd\n",
    "import seaborn as sns\n",
    "import matplotlib.pyplot as plt\n",
    "sns.set_palette(\"deep\")\n",
    "sns.set()\n",
    "\n",
    "data = pd.read_csv('Gaul_Model experiment-table.csv', skiprows = 6)"
   ]
  },
  {
   "cell_type": "code",
   "execution_count": 46,
   "metadata": {},
   "outputs": [
    {
     "data": {
      "text/html": [
       "<div>\n",
       "<style scoped>\n",
       "    .dataframe tbody tr th:only-of-type {\n",
       "        vertical-align: middle;\n",
       "    }\n",
       "\n",
       "    .dataframe tbody tr th {\n",
       "        vertical-align: top;\n",
       "    }\n",
       "\n",
       "    .dataframe thead th {\n",
       "        text-align: right;\n",
       "    }\n",
       "</style>\n",
       "<table border=\"1\" class=\"dataframe\">\n",
       "  <thead>\n",
       "    <tr style=\"text-align: right;\">\n",
       "      <th></th>\n",
       "      <th>[run number]</th>\n",
       "      <th>random-seed</th>\n",
       "      <th>GrainTradeRate</th>\n",
       "      <th>harvest-calories</th>\n",
       "      <th>reproduction</th>\n",
       "      <th>buying-radius</th>\n",
       "      <th>life-expectancy</th>\n",
       "      <th>harvest-amount</th>\n",
       "      <th>number-Gauls</th>\n",
       "      <th>weighted-trade-choice</th>\n",
       "      <th>...</th>\n",
       "      <th>number-mining-Gauls</th>\n",
       "      <th>Etruscan-arrival</th>\n",
       "      <th>metals?</th>\n",
       "      <th>Greek-arrival</th>\n",
       "      <th>[step]</th>\n",
       "      <th>behaviorspace-run-number</th>\n",
       "      <th>count turtles</th>\n",
       "      <th>count lineageA</th>\n",
       "      <th>count lineageB1</th>\n",
       "      <th>total-amphora</th>\n",
       "    </tr>\n",
       "  </thead>\n",
       "  <tbody>\n",
       "    <tr>\n",
       "      <th>0</th>\n",
       "      <td>3</td>\n",
       "      <td>0</td>\n",
       "      <td>20</td>\n",
       "      <td>4</td>\n",
       "      <td>3</td>\n",
       "      <td>10</td>\n",
       "      <td>50</td>\n",
       "      <td>20</td>\n",
       "      <td>150</td>\n",
       "      <td>0</td>\n",
       "      <td>...</td>\n",
       "      <td>20</td>\n",
       "      <td>34</td>\n",
       "      <td>False</td>\n",
       "      <td>100</td>\n",
       "      <td>500</td>\n",
       "      <td>3</td>\n",
       "      <td>918</td>\n",
       "      <td>569</td>\n",
       "      <td>349</td>\n",
       "      <td>869590</td>\n",
       "    </tr>\n",
       "    <tr>\n",
       "      <th>1</th>\n",
       "      <td>7</td>\n",
       "      <td>0</td>\n",
       "      <td>20</td>\n",
       "      <td>4</td>\n",
       "      <td>3</td>\n",
       "      <td>10</td>\n",
       "      <td>50</td>\n",
       "      <td>20</td>\n",
       "      <td>150</td>\n",
       "      <td>10</td>\n",
       "      <td>...</td>\n",
       "      <td>20</td>\n",
       "      <td>34</td>\n",
       "      <td>False</td>\n",
       "      <td>100</td>\n",
       "      <td>500</td>\n",
       "      <td>7</td>\n",
       "      <td>1038</td>\n",
       "      <td>632</td>\n",
       "      <td>406</td>\n",
       "      <td>908220</td>\n",
       "    </tr>\n",
       "    <tr>\n",
       "      <th>2</th>\n",
       "      <td>5</td>\n",
       "      <td>0</td>\n",
       "      <td>20</td>\n",
       "      <td>4</td>\n",
       "      <td>3</td>\n",
       "      <td>10</td>\n",
       "      <td>50</td>\n",
       "      <td>20</td>\n",
       "      <td>150</td>\n",
       "      <td>0</td>\n",
       "      <td>...</td>\n",
       "      <td>20</td>\n",
       "      <td>34</td>\n",
       "      <td>True</td>\n",
       "      <td>100</td>\n",
       "      <td>500</td>\n",
       "      <td>5</td>\n",
       "      <td>954</td>\n",
       "      <td>589</td>\n",
       "      <td>365</td>\n",
       "      <td>877520</td>\n",
       "    </tr>\n",
       "    <tr>\n",
       "      <th>3</th>\n",
       "      <td>2</td>\n",
       "      <td>0</td>\n",
       "      <td>20</td>\n",
       "      <td>4</td>\n",
       "      <td>3</td>\n",
       "      <td>10</td>\n",
       "      <td>50</td>\n",
       "      <td>20</td>\n",
       "      <td>150</td>\n",
       "      <td>0</td>\n",
       "      <td>...</td>\n",
       "      <td>20</td>\n",
       "      <td>34</td>\n",
       "      <td>False</td>\n",
       "      <td>100</td>\n",
       "      <td>500</td>\n",
       "      <td>2</td>\n",
       "      <td>918</td>\n",
       "      <td>569</td>\n",
       "      <td>349</td>\n",
       "      <td>869590</td>\n",
       "    </tr>\n",
       "    <tr>\n",
       "      <th>4</th>\n",
       "      <td>4</td>\n",
       "      <td>0</td>\n",
       "      <td>20</td>\n",
       "      <td>4</td>\n",
       "      <td>3</td>\n",
       "      <td>10</td>\n",
       "      <td>50</td>\n",
       "      <td>20</td>\n",
       "      <td>150</td>\n",
       "      <td>0</td>\n",
       "      <td>...</td>\n",
       "      <td>20</td>\n",
       "      <td>34</td>\n",
       "      <td>True</td>\n",
       "      <td>100</td>\n",
       "      <td>500</td>\n",
       "      <td>4</td>\n",
       "      <td>954</td>\n",
       "      <td>589</td>\n",
       "      <td>365</td>\n",
       "      <td>877520</td>\n",
       "    </tr>\n",
       "  </tbody>\n",
       "</table>\n",
       "<p>5 rows × 23 columns</p>\n",
       "</div>"
      ],
      "text/plain": [
       "   [run number]  random-seed  GrainTradeRate  harvest-calories  reproduction  \\\n",
       "0             3            0              20                 4             3   \n",
       "1             7            0              20                 4             3   \n",
       "2             5            0              20                 4             3   \n",
       "3             2            0              20                 4             3   \n",
       "4             4            0              20                 4             3   \n",
       "\n",
       "   buying-radius  life-expectancy  harvest-amount  number-Gauls  \\\n",
       "0             10               50              20           150   \n",
       "1             10               50              20           150   \n",
       "2             10               50              20           150   \n",
       "3             10               50              20           150   \n",
       "4             10               50              20           150   \n",
       "\n",
       "   weighted-trade-choice  ...  number-mining-Gauls  Etruscan-arrival  metals?  \\\n",
       "0                      0  ...                   20                34    False   \n",
       "1                     10  ...                   20                34    False   \n",
       "2                      0  ...                   20                34     True   \n",
       "3                      0  ...                   20                34    False   \n",
       "4                      0  ...                   20                34     True   \n",
       "\n",
       "   Greek-arrival  [step]  behaviorspace-run-number  count turtles  \\\n",
       "0            100     500                         3            918   \n",
       "1            100     500                         7           1038   \n",
       "2            100     500                         5            954   \n",
       "3            100     500                         2            918   \n",
       "4            100     500                         4            954   \n",
       "\n",
       "   count lineageA  count lineageB1  total-amphora  \n",
       "0             569              349         869590  \n",
       "1             632              406         908220  \n",
       "2             589              365         877520  \n",
       "3             569              349         869590  \n",
       "4             589              365         877520  \n",
       "\n",
       "[5 rows x 23 columns]"
      ]
     },
     "execution_count": 46,
     "metadata": {},
     "output_type": "execute_result"
    }
   ],
   "source": [
    "data.head()"
   ]
  },
  {
   "cell_type": "code",
   "execution_count": 47,
   "metadata": {},
   "outputs": [
    {
     "data": {
      "text/plain": [
       "<matplotlib.axes._subplots.AxesSubplot at 0x1fa97654cf8>"
      ]
     },
     "execution_count": 47,
     "metadata": {},
     "output_type": "execute_result"
    },
    {
     "data": {
      "image/png": "[encoded data removed]",
      "text/plain": [
       "<Figure size 432x288 with 1 Axes>"
      ]
     },
     "metadata": {},
     "output_type": "display_data"
    }
   ],
   "source": [
    "sns.scatterplot(x = \"weighted-trade-choice\", y = \"count turtles\", data = data)"
   ]
  },
  {
   "cell_type": "code",
   "execution_count": 49,
   "metadata": {},
   "outputs": [
    {
     "data": {
      "text/plain": [
       "<matplotlib.axes._subplots.AxesSubplot at 0x1fa963fc208>"
      ]
     },
     "execution_count": 49,
     "metadata": {},
     "output_type": "execute_result"
    },
    {
     "data": {
      "image/png": "[encoded data removed]",
      "text/plain": [
       "<Figure size 720x504 with 1 Axes>"
      ]
     },
     "metadata": {},
     "output_type": "display_data"
    }
   ],
   "source": [
    "plt.figure(figsize = (10,7))\n",
    "sns.barplot( x = \"weighted-trade-choice\", y = 'count turtles', hue = 'metals?',data = data)"
   ]
  },
  {
   "cell_type": "code",
   "execution_count": 67,
   "metadata": {
    "scrolled": true
   },
   "outputs": [],
   "source": [
    "curve_data = pd.read_csv(\"metals_ true_repro3_13.csv\", skiprows=17)"
   ]
  },
  {
   "cell_type": "code",
   "execution_count": 70,
   "metadata": {},
   "outputs": [],
   "source": [
    "curve_data.rename(columns ={\"y\":\"Etruscan\", \"y.1\":\"Greek\" }, inplace = True)"
   ]
  },
  {
   "cell_type": "code",
   "execution_count": 71,
   "metadata": {},
   "outputs": [
    {
     "data": {
      "text/html": [
       "<div>\n",
       "<style scoped>\n",
       "    .dataframe tbody tr th:only-of-type {\n",
       "        vertical-align: middle;\n",
       "    }\n",
       "\n",
       "    .dataframe tbody tr th {\n",
       "        vertical-align: top;\n",
       "    }\n",
       "\n",
       "    .dataframe thead th {\n",
       "        text-align: right;\n",
       "    }\n",
       "</style>\n",
       "<table border=\"1\" class=\"dataframe\">\n",
       "  <thead>\n",
       "    <tr style=\"text-align: right;\">\n",
       "      <th></th>\n",
       "      <th>x</th>\n",
       "      <th>Etruscan</th>\n",
       "      <th>color</th>\n",
       "      <th>pen down?</th>\n",
       "      <th>x.1</th>\n",
       "      <th>Greek</th>\n",
       "      <th>color.1</th>\n",
       "      <th>pen down?.1</th>\n",
       "    </tr>\n",
       "  </thead>\n",
       "  <tbody>\n",
       "    <tr>\n",
       "      <th>0</th>\n",
       "      <td>35</td>\n",
       "      <td>0.000000</td>\n",
       "      <td>95</td>\n",
       "      <td>True</td>\n",
       "      <td>101.0</td>\n",
       "      <td>0.000000</td>\n",
       "      <td>25.0</td>\n",
       "      <td>True</td>\n",
       "    </tr>\n",
       "    <tr>\n",
       "      <th>1</th>\n",
       "      <td>36</td>\n",
       "      <td>19.030303</td>\n",
       "      <td>95</td>\n",
       "      <td>True</td>\n",
       "      <td>102.0</td>\n",
       "      <td>3.913265</td>\n",
       "      <td>25.0</td>\n",
       "      <td>True</td>\n",
       "    </tr>\n",
       "    <tr>\n",
       "      <th>2</th>\n",
       "      <td>37</td>\n",
       "      <td>38.090909</td>\n",
       "      <td>95</td>\n",
       "      <td>True</td>\n",
       "      <td>103.0</td>\n",
       "      <td>7.459184</td>\n",
       "      <td>25.0</td>\n",
       "      <td>True</td>\n",
       "    </tr>\n",
       "    <tr>\n",
       "      <th>3</th>\n",
       "      <td>38</td>\n",
       "      <td>77.090909</td>\n",
       "      <td>95</td>\n",
       "      <td>True</td>\n",
       "      <td>104.0</td>\n",
       "      <td>6.714286</td>\n",
       "      <td>25.0</td>\n",
       "      <td>True</td>\n",
       "    </tr>\n",
       "    <tr>\n",
       "      <th>4</th>\n",
       "      <td>39</td>\n",
       "      <td>76.090909</td>\n",
       "      <td>95</td>\n",
       "      <td>True</td>\n",
       "      <td>105.0</td>\n",
       "      <td>16.367347</td>\n",
       "      <td>25.0</td>\n",
       "      <td>True</td>\n",
       "    </tr>\n",
       "  </tbody>\n",
       "</table>\n",
       "</div>"
      ],
      "text/plain": [
       "    x   Etruscan  color  pen down?    x.1      Greek  color.1 pen down?.1\n",
       "0  35   0.000000     95       True  101.0   0.000000     25.0        True\n",
       "1  36  19.030303     95       True  102.0   3.913265     25.0        True\n",
       "2  37  38.090909     95       True  103.0   7.459184     25.0        True\n",
       "3  38  77.090909     95       True  104.0   6.714286     25.0        True\n",
       "4  39  76.090909     95       True  105.0  16.367347     25.0        True"
      ]
     },
     "execution_count": 71,
     "metadata": {},
     "output_type": "execute_result"
    }
   ],
   "source": [
    "curve_data.head()"
   ]
  },
  {
   "cell_type": "code",
   "execution_count": 81,
   "metadata": {},
   "outputs": [
    {
     "data": {
      "image/png": "[encoded data removed]",
      "text/plain": [
       "<Figure size 1080x720 with 1 Axes>"
      ]
     },
     "metadata": {},
     "output_type": "display_data"
    }
   ],
   "source": [
    "plt.figure(figsize=(15, 10))\n",
    "sns.lineplot( y = \"Etruscan\", x = \"x\", data = curve_data)\n",
    "sns.lineplot( y = \"Greek\", x = \"x.1\", data = curve_data)\n",
    "plt.savefig(\"ch3_3_the_curve.png\", dpi = 300)"
   ]
  },
  {
   "cell_type": "code",
   "execution_count": null,
   "metadata": {},
   "outputs": [],
   "source": []
  }
 ],
 "metadata": {
  "kernelspec": {
   "display_name": "Python 3",
   "language": "python",
   "name": "python3"
  },
  "language_info": {
   "codemirror_mode": {
    "name": "ipython",
    "version": 3
   },
   "file_extension": ".py",
   "mimetype": "text/x-python",
   "name": "python",
   "nbconvert_exporter": "python",
   "pygments_lexer": "ipython3",
   "version": "3.7.1"
  }
 },
 "nbformat": 4,
 "nbformat_minor": 2
}
